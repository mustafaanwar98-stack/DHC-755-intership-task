{
 "cells": [
  {
   "cell_type": "markdown",
   "id": "086570f1",
   "metadata": {},
   "source": [
    "\n",
    "# Task 4 — Predicting Insurance Claim Amounts\n",
    "\n",
    "**Objective:** Train Linear Regression to estimate medical insurance charges.  \n",
    "**Metrics:** MAE and RMSE.  \n",
    "**Visuals:** BMI, age, smoking status vs. charges.\n"
   ]
  },
  {
   "cell_type": "code",
   "execution_count": null,
   "id": "b92eb642",
   "metadata": {},
   "outputs": [],
   "source": [
    "\n",
    "import pandas as pd, numpy as np\n",
    "import matplotlib.pyplot as plt\n",
    "from pathlib import Path\n",
    "from sklearn.model_selection import train_test_split\n",
    "from sklearn.compose import ColumnTransformer\n",
    "from sklearn.preprocessing import OneHotEncoder, StandardScaler\n",
    "from sklearn.pipeline import Pipeline\n",
    "from sklearn.linear_model import LinearRegression\n",
    "from sklearn.metrics import mean_absolute_error, mean_squared_error\n",
    "\n",
    "data_path_options = [\n",
    "    Path('data/insurance.csv'),\n",
    "    Path('../data/insurance.csv'),\n",
    "    Path('/mnt/data/devhub_ds_tasks/data/insurance.csv'),\n",
    "]\n"
   ]
  },
  {
   "cell_type": "code",
   "execution_count": null,
   "id": "dcc2cf4f",
   "metadata": {},
   "outputs": [],
   "source": [
    "\n",
    "# Load dataset (expects insurance.csv in ./data/). If missing, print a helpful message.\n",
    "df = None\n",
    "for p in data_path_options:\n",
    "    if p.exists():\n",
    "        df = pd.read_csv(p)\n",
    "        break\n",
    "if df is None:\n",
    "    raise FileNotFoundError(\"Place 'insurance.csv' under ./data/ and re-run.\")\n",
    "print(\"Shape:\", df.shape)\n",
    "display(df.head())\n",
    "display(df.describe(include='all'))\n",
    "print(\"\\nNulls per column:\\n\", df.isna().sum())\n"
   ]
  },
  {
   "cell_type": "code",
   "execution_count": null,
   "id": "53f274a0",
   "metadata": {},
   "outputs": [],
   "source": [
    "\n",
    "# Visuals\n",
    "fig = plt.figure(); plt.scatter(df['bmi'], df['charges'], alpha=0.7)\n",
    "plt.xlabel(\"BMI\"); plt.ylabel(\"Charges\"); plt.title(\"BMI vs Charges\"); plt.show()\n",
    "\n",
    "fig = plt.figure(); plt.scatter(df['age'], df['charges'], alpha=0.7)\n",
    "plt.xlabel(\"Age\"); plt.ylabel(\"Charges\"); plt.title(\"Age vs Charges\"); plt.show()\n",
    "\n",
    "fig = plt.figure()\n",
    "x = (df['smoker']=='yes').astype(int) + (np.random.rand(len(df))-0.5)*0.1\n",
    "plt.scatter(x, df['charges'], alpha=0.5)\n",
    "plt.xticks([0,1], ['no','yes']); plt.xlabel(\"Smoker\"); plt.ylabel(\"Charges\")\n",
    "plt.title(\"Smoking Status vs Charges\"); plt.show()\n"
   ]
  },
  {
   "cell_type": "code",
   "execution_count": null,
   "id": "2086c9a5",
   "metadata": {},
   "outputs": [],
   "source": [
    "\n",
    "# Preprocess & Train\n",
    "X = df.drop(columns=['charges'])\n",
    "y = df['charges']\n",
    "numeric = X.select_dtypes(include=[np.number]).columns.tolist()\n",
    "categorical = X.select_dtypes(exclude=[np.number]).columns.tolist()\n",
    "\n",
    "pre = ColumnTransformer([\n",
    "    ('num', StandardScaler(), numeric),\n",
    "    ('cat', OneHotEncoder(handle_unknown='ignore'), categorical),\n",
    "])\n",
    "\n",
    "model = Pipeline([('pre', pre), ('lr', LinearRegression())])\n",
    "\n",
    "X_train, X_test, y_train, y_test = train_test_split(X, y, test_size=0.2, random_state=42)\n",
    "model.fit(X_train, y_train)\n",
    "\n",
    "preds = model.predict(X_test)\n",
    "mae = mean_absolute_error(y_test, preds)\n",
    "rmse = mean_squared_error(y_test, preds, squared=False)\n",
    "print(\"MAE:\", round(mae,2), \"| RMSE:\", round(rmse,2))\n"
   ]
  },
  {
   "cell_type": "code",
   "execution_count": null,
   "id": "3ddbb02c",
   "metadata": {},
   "outputs": [],
   "source": [
    "\n",
    "# Coefficient magnitudes (proxy importance)\n",
    "lr = model.named_steps['lr']\n",
    "pre = model.named_steps['pre']\n",
    "num_features = pre.transformers_[0][2]\n",
    "cat_encoder = pre.transformers_[1][1]\n",
    "cat_features = cat_encoder.get_feature_names_out(pre.transformers_[1][2])\n",
    "feature_names = list(num_features) + list(cat_features)\n",
    "import pandas as pd, numpy as np\n",
    "coefs = pd.Series(np.abs(lr.coef_), index=feature_names).sort_values(ascending=False)\n",
    "coefs.head(10)\n"
   ]
  },
  {
   "cell_type": "markdown",
   "id": "a51fd2d2",
   "metadata": {},
   "source": [
    "\n",
    "# Conclusion\n",
    "\n",
    "- **Signal:** Charges rise with **age** and **BMI**; **smoking** corresponds to much higher costs.  \n",
    "- **Model:** Linear Regression with scaling + OHE gives reasonable **MAE/RMSE**.  \n",
    "- **Interpretation:** Largest coefficients (post-scaling) align with **smoker**, **age**, **BMI**.  \n",
    "- **Next:** Try non-linear models and interactions; consider log(`charges`) for error stability.\n"
   ]
  }
 ],
 "metadata": {},
 "nbformat": 4,
 "nbformat_minor": 5
}
