{
 "cells": [
  {
   "cell_type": "markdown",
   "id": "db210761",
   "metadata": {},
   "source": [
    "\n",
    "# Task 4 — Predicting Insurance Claim Amounts\n",
    "\n",
    "**Objective:** Train Linear Regression to estimate medical insurance charges.  \n",
    "**Metrics:** MAE and RMSE.  \n",
    "**Visuals:** Impact of BMI, age, smoking status.\n"
   ]
  },
  {
   "cell_type": "code",
   "execution_count": null,
   "id": "2e7ccc8d",
   "metadata": {},
   "outputs": [],
   "source": [
    "\n",
    "# Imports\n",
    "import pandas as pd\n",
    "import numpy as np\n",
    "import matplotlib.pyplot as plt\n",
    "from pathlib import Path\n",
    "\n",
    "from sklearn.model_selection import train_test_split\n",
    "from sklearn.compose import ColumnTransformer\n",
    "from sklearn.preprocessing import OneHotEncoder, StandardScaler\n",
    "from sklearn.pipeline import Pipeline\n",
    "from sklearn.linear_model import LinearRegression\n",
    "from sklearn.metrics import mean_absolute_error, mean_squared_error\n",
    "\n",
    "data_path_options = [\n",
    "    Path('data/insurance.csv'),\n",
    "    Path('../data/insurance.csv'),\n",
    "    Path('/mnt/data/devhub_ds_tasks/data/insurance.csv'),\n",
    "]\n"
   ]
  },
  {
   "cell_type": "code",
   "execution_count": null,
   "id": "81834d05",
   "metadata": {},
   "outputs": [],
   "source": [
    "\n",
    "# Load dataset (tries local file first; if missing, attempts an internet URL)\n",
    "import io, sys\n",
    "df = None\n",
    "for p in data_path_options:\n",
    "    if p.exists():\n",
    "        df = pd.read_csv(p)\n",
    "        break\n",
    "if df is None:\n",
    "    try:\n",
    "        import urllib.request\n",
    "        url = \"https://raw.githubusercontent.com/stedy/Machine-Learning-with-R-datasets/master/insurance.csv\"\n",
    "        df = pd.read_csv(url)\n",
    "        print(\"Loaded dataset from:\", url)\n",
    "    except Exception as e:\n",
    "        print(\"Please place 'insurance.csv' under ./data/ and re-run. Error:\", e)\n",
    "        raise\n",
    "df.head()\n"
   ]
  },
  {
   "cell_type": "code",
   "execution_count": null,
   "id": "9428ccb7",
   "metadata": {},
   "outputs": [],
   "source": [
    "\n",
    "# Basic EDA\n",
    "print(\"Shape:\", df.shape)\n",
    "display(df.describe(include='all'))\n",
    "print(\"\\nNulls per column:\\n\", df.isna().sum())\n"
   ]
  },
  {
   "cell_type": "code",
   "execution_count": null,
   "id": "1d39eb70",
   "metadata": {},
   "outputs": [],
   "source": [
    "\n",
    "# Visualizations: BMI, age, smoker vs charges\n",
    "fig = plt.figure()\n",
    "plt.scatter(df['bmi'], df['charges'], alpha=0.7)\n",
    "plt.xlabel(\"BMI\"); plt.ylabel(\"Charges\"); plt.title(\"BMI vs Charges\"); plt.show()\n",
    "\n",
    "fig = plt.figure()\n",
    "plt.scatter(df['age'], df['charges'], alpha=0.7)\n",
    "plt.xlabel(\"Age\"); plt.ylabel(\"Charges\"); plt.title(\"Age vs Charges\"); plt.show()\n",
    "\n",
    "fig = plt.figure()\n",
    "# box-like visualization via scatter jitter for smoker vs charges\n",
    "jitter = (np.random.rand(len(df))-0.5)*0.1\n",
    "x = (df['smoker'] == 'yes').astype(int) + jitter\n",
    "plt.scatter(x, df['charges'], alpha=0.5)\n",
    "plt.xticks([0,1], ['no','yes'])\n",
    "plt.xlabel(\"Smoker\"); plt.ylabel(\"Charges\"); plt.title(\"Smoking Status vs Charges\"); plt.show()\n"
   ]
  },
  {
   "cell_type": "code",
   "execution_count": null,
   "id": "2d6b414d",
   "metadata": {},
   "outputs": [],
   "source": [
    "\n",
    "# Preprocess\n",
    "X = df.drop(columns=['charges'])\n",
    "y = df['charges']\n",
    "\n",
    "numeric = X.select_dtypes(include=[np.number]).columns.tolist()\n",
    "categorical = X.select_dtypes(exclude=[np.number]).columns.tolist()\n",
    "\n",
    "pre = ColumnTransformer([\n",
    "    ('num', StandardScaler(), numeric),\n",
    "    ('cat', OneHotEncoder(handle_unknown='ignore'), categorical),\n",
    "])\n",
    "\n",
    "model = Pipeline([\n",
    "    ('pre', pre),\n",
    "    ('lr', LinearRegression())\n",
    "])\n",
    "\n",
    "X_train, X_test, y_train, y_test = train_test_split(X, y, test_size=0.2, random_state=42)\n",
    "model.fit(X_train, y_train)\n"
   ]
  },
  {
   "cell_type": "code",
   "execution_count": null,
   "id": "a76f8ba7",
   "metadata": {},
   "outputs": [],
   "source": [
    "\n",
    "# Evaluation\n",
    "preds = model.predict(X_test)\n",
    "mae = mean_absolute_error(y_test, preds)\n",
    "rmse = mean_squared_error(y_test, preds, squared=False)\n",
    "print(\"MAE:\", round(mae,2), \"| RMSE:\", round(rmse,2))\n"
   ]
  },
  {
   "cell_type": "code",
   "execution_count": null,
   "id": "8579392b",
   "metadata": {},
   "outputs": [],
   "source": [
    "\n",
    "# Simple feature importance proxy for linear regression (absolute coefficients)\n",
    "# NOTE: Proper interpretation requires care with scaling/encoding.\n",
    "lr = model.named_steps['lr']\n",
    "pre = model.named_steps['pre']\n",
    "# Get feature names\n",
    "num_features = pre.transformers_[0][2]\n",
    "cat_encoder = pre.transformers_[1][1]\n",
    "cat_features = cat_encoder.get_feature_names_out(pre.transformers_[1][2])\n",
    "feature_names = list(num_features) + list(cat_features)\n",
    "\n",
    "coefs = pd.Series(np.abs(lr.coef_), index=feature_names).sort_values(ascending=False)\n",
    "coefs.head(10)\n"
   ]
  },
  {
   "cell_type": "code",
   "execution_count": null,
   "id": "e3bb730c",
   "metadata": {},
   "outputs": [],
   "source": [
    "\n",
    "# Conclusion (edit as needed)\n",
    "print(\"\"\"\n",
    "Key findings:\n",
    "• Charges increase with age and BMI.\n",
    "• Smoking status has a strong positive association with charges.\n",
    "• Linear Regression achieves reasonable MAE/RMSE; try tree-based models to capture non-linearities.\n",
    "\"\"\")\n"
   ]
  }
 ],
 "metadata": {},
 "nbformat": 4,
 "nbformat_minor": 5
}
