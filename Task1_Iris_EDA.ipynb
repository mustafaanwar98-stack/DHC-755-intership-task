{
 "cells": [
  {
   "cell_type": "markdown",
   "id": "f62e4a55",
   "metadata": {},
   "source": [
    "\n",
    "# Task 1 — Exploring & Visualizing the Iris Dataset\n",
    "\n",
    "**Objective:** Read, summarize, and visualize a simple dataset (Iris).\n"
   ]
  },
  {
   "cell_type": "code",
   "execution_count": null,
   "id": "93b14a42",
   "metadata": {},
   "outputs": [],
   "source": [
    "\n",
    "import pandas as pd, numpy as np\n",
    "import matplotlib.pyplot as plt\n",
    "import seaborn as sns\n",
    "from sklearn.datasets import load_iris\n",
    "pd.set_option('display.max_columns', None)\n"
   ]
  },
  {
   "cell_type": "code",
   "execution_count": null,
   "id": "6d839ccd",
   "metadata": {},
   "outputs": [],
   "source": [
    "\n",
    "iris_bunch = load_iris(as_frame=True)\n",
    "df = iris_bunch.frame.copy()\n",
    "df.columns = [\"sepal_length\",\"sepal_width\",\"petal_length\",\"petal_width\",\"species\"]\n",
    "print(\"Shape:\", df.shape)\n",
    "display(df.head())\n",
    "display(df.describe())\n"
   ]
  },
  {
   "cell_type": "code",
   "execution_count": null,
   "id": "6e8f23a9",
   "metadata": {},
   "outputs": [],
   "source": [
    "\n",
    "# Scatter: petal length vs width by species\n",
    "fig = plt.figure()\n",
    "for sp in df['species'].unique():\n",
    "    d = df[df['species']==sp]\n",
    "    plt.scatter(d['petal_length'], d['petal_width'], label=sp, alpha=0.8)\n",
    "plt.xlabel(\"Petal length (cm)\"); plt.ylabel(\"Petal width (cm)\")\n",
    "plt.title(\"Petal length vs width by species\"); plt.legend(); plt.show()\n"
   ]
  },
  {
   "cell_type": "code",
   "execution_count": null,
   "id": "bed291ef",
   "metadata": {},
   "outputs": [],
   "source": [
    "\n",
    "# Histogram: Sepal length\n",
    "fig = plt.figure()\n",
    "plt.hist(df['sepal_length'], bins=20, alpha=0.9)\n",
    "plt.xlabel(\"Sepal length (cm)\"); plt.ylabel(\"Count\")\n",
    "plt.title(\"Distribution of Sepal Length\"); plt.show()\n"
   ]
  },
  {
   "cell_type": "code",
   "execution_count": null,
   "id": "88ba52af",
   "metadata": {},
   "outputs": [],
   "source": [
    "\n",
    "# Box plots: numeric features\n",
    "fig = plt.figure()\n",
    "df[[\"sepal_length\",\"sepal_width\",\"petal_length\",\"petal_width\"]].plot(kind='box', grid=True)\n",
    "plt.title(\"Box plots of numeric features\"); plt.show()\n"
   ]
  },
  {
   "cell_type": "code",
   "execution_count": null,
   "id": "8367a6b6",
   "metadata": {},
   "outputs": [],
   "source": [
    "\n",
    "df.corr(numeric_only=True)\n"
   ]
  },
  {
   "cell_type": "markdown",
   "id": "21a54801",
   "metadata": {},
   "source": [
    "\n",
    "# Conclusion\n",
    "\n",
    "- **Goal met:** Loaded Iris, summarized structure, and visualized relationships.  \n",
    "- **Key patterns:** Petal length/width clearly separate classes; sepal features overlap more.  \n",
    "- **Distribution:** Features are well-behaved with tight ranges; no extreme outliers.  \n",
    "- **Next steps:** Try pairplots, class-wise boxplots, and a quick Logistic Regression baseline to quantify separability.\n"
   ]
  }
 ],
 "metadata": {},
 "nbformat": 4,
 "nbformat_minor": 5
}
