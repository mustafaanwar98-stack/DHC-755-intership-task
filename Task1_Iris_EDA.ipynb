{
 "cells": [
  {
   "cell_type": "markdown",
   "id": "717078b8",
   "metadata": {},
   "source": [
    "\n",
    "# Task 1 — Exploring & Visualizing the Iris Dataset\n",
    "\n",
    "**Objective:** Read, summarize, and visualize a simple dataset.\n",
    "\n",
    "**Checklist:** shape/columns/head • scatter • histogram • box plot • brief insights.\n"
   ]
  },
  {
   "cell_type": "code",
   "id": "2a0e05b9",
   "metadata": {
    "ExecuteTime": {
     "end_time": "2025-08-12T16:50:55.579820Z",
     "start_time": "2025-08-12T16:50:55.482619Z"
    }
   },
   "source": [
    "\n",
    "# Imports\n",
    "import pandas as pd\n",
    "import numpy as np\n",
    "import matplotlib.pyplot as plt\n",
    "# seaborn is allowed per task instructions (plots use matplotlib for portability in this environment)\n",
    "import seaborn as sns\n",
    "\n",
    "# Display settings\n",
    "pd.set_option('display.max_columns', None)\n"
   ],
   "outputs": [
    {
     "ename": "ModuleNotFoundError",
     "evalue": "No module named 'pandas'",
     "output_type": "error",
     "traceback": [
      "\u001B[31m---------------------------------------------------------------------------\u001B[39m",
      "\u001B[31mModuleNotFoundError\u001B[39m                       Traceback (most recent call last)",
      "\u001B[36mCell\u001B[39m\u001B[36m \u001B[39m\u001B[32mIn[1]\u001B[39m\u001B[32m, line 2\u001B[39m\n\u001B[32m      1\u001B[39m \u001B[38;5;66;03m# Imports\u001B[39;00m\n\u001B[32m----> \u001B[39m\u001B[32m2\u001B[39m \u001B[38;5;28;01mimport\u001B[39;00m\u001B[38;5;250m \u001B[39m\u001B[34;01mpandas\u001B[39;00m\u001B[38;5;250m \u001B[39m\u001B[38;5;28;01mas\u001B[39;00m\u001B[38;5;250m \u001B[39m\u001B[34;01mpd\u001B[39;00m\n\u001B[32m      3\u001B[39m \u001B[38;5;28;01mimport\u001B[39;00m\u001B[38;5;250m \u001B[39m\u001B[34;01mnumpy\u001B[39;00m\u001B[38;5;250m \u001B[39m\u001B[38;5;28;01mas\u001B[39;00m\u001B[38;5;250m \u001B[39m\u001B[34;01mnp\u001B[39;00m\n\u001B[32m      4\u001B[39m \u001B[38;5;28;01mimport\u001B[39;00m\u001B[38;5;250m \u001B[39m\u001B[34;01mmatplotlib\u001B[39;00m\u001B[34;01m.\u001B[39;00m\u001B[34;01mpyplot\u001B[39;00m\u001B[38;5;250m \u001B[39m\u001B[38;5;28;01mas\u001B[39;00m\u001B[38;5;250m \u001B[39m\u001B[34;01mplt\u001B[39;00m\n",
      "\u001B[31mModuleNotFoundError\u001B[39m: No module named 'pandas'"
     ]
    }
   ],
   "execution_count": 1
  },
  {
   "cell_type": "code",
   "id": "bea7aff4",
   "metadata": {
    "jupyter": {
     "is_executing": true
    }
   },
   "source": [
    "\n",
    "# Load dataset (using scikit-learn to avoid external downloads)\n",
    "from sklearn.datasets import load_iris\n",
    "iris_bunch = load_iris(as_frame=True)\n",
    "df = iris_bunch.frame.copy()\n",
    "# Rename columns for readability\n",
    "df.columns = [\"sepal_length\", \"sepal_width\", \"petal_length\", \"petal_width\", \"species\"]\n",
    "df.head()\n"
   ],
   "outputs": [],
   "execution_count": null
  },
  {
   "cell_type": "code",
   "execution_count": null,
   "id": "eeac8b51",
   "metadata": {},
   "outputs": [],
   "source": [
    "\n",
    "# Basic structure\n",
    "print(\"Shape:\", df.shape)\n",
    "print(\"\\nColumns:\", df.columns.tolist())\n",
    "display(df.head())\n",
    "display(df.describe(include='all'))\n"
   ]
  },
  {
   "cell_type": "code",
   "execution_count": null,
   "id": "ec650777",
   "metadata": {},
   "outputs": [],
   "source": [
    "\n",
    "# Scatter plot: petal_length vs petal_width by species\n",
    "fig = plt.figure()\n",
    "for sp in df['species'].unique():\n",
    "    d = df[df['species']==sp]\n",
    "    plt.scatter(d['petal_length'], d['petal_width'], label=sp, alpha=0.8)\n",
    "plt.xlabel(\"Petal length (cm)\")\n",
    "plt.ylabel(\"Petal width (cm)\")\n",
    "plt.title(\"Petal length vs width by species\")\n",
    "plt.legend()\n",
    "plt.show()\n"
   ]
  },
  {
   "cell_type": "code",
   "execution_count": null,
   "id": "ab20dde1",
   "metadata": {},
   "outputs": [],
   "source": [
    "\n",
    "# Histogram: distribution of sepal_length\n",
    "fig = plt.figure()\n",
    "plt.hist(df['sepal_length'], bins=20, alpha=0.9)\n",
    "plt.xlabel(\"Sepal length (cm)\")\n",
    "plt.ylabel(\"Count\")\n",
    "plt.title(\"Distribution of Sepal Length\")\n",
    "plt.show()\n"
   ]
  },
  {
   "cell_type": "code",
   "execution_count": null,
   "id": "968f57e3",
   "metadata": {},
   "outputs": [],
   "source": [
    "\n",
    "# Box plots: numeric features\n",
    "numeric_cols = df.select_dtypes(include=[np.number]).columns\n",
    "fig = plt.figure()\n",
    "df[numeric_cols].plot(kind='box', grid=True)\n",
    "plt.title(\"Box plots of numeric features\")\n",
    "plt.show()\n"
   ]
  },
  {
   "cell_type": "code",
   "execution_count": null,
   "id": "3f577cb6",
   "metadata": {},
   "outputs": [],
   "source": [
    "\n",
    "# Quick correlations\n",
    "df.corr(numeric_only=True)\n"
   ]
  },
  {
   "cell_type": "code",
   "execution_count": null,
   "id": "a2cd9eca",
   "metadata": {},
   "outputs": [],
   "source": [
    "\n",
    "# Conclusion (edit as needed)\n",
    "print(\"\"\"\n",
    "Key notes:\n",
    "• Petal measurements separate species clearly.\n",
    "• Sepal features overlap more across species.\n",
    "• No extreme outliers; ranges are tight.\n",
    "\"\"\")\n"
   ]
  }
 ],
 "metadata": {},
 "nbformat": 4,
 "nbformat_minor": 5
}
