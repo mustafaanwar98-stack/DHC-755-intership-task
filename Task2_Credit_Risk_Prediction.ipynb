{
 "cells": [
  {
   "cell_type": "markdown",
   "id": "e372b1ff",
   "metadata": {},
   "source": [
    "\n",
    "# Task 2 — Credit Risk Prediction\n",
    "\n",
    "**Objective:** Predict loan default/approval using Kaggle Loan Prediction dataset.  \n",
    "**Note:** Put `train.csv` in `data/loan/`.\n"
   ]
  },
  {
   "cell_type": "code",
   "execution_count": null,
   "id": "d964d173",
   "metadata": {},
   "outputs": [],
   "source": [
    "\n",
    "import pandas as pd, numpy as np\n",
    "import matplotlib.pyplot as plt\n",
    "from pathlib import Path\n",
    "from sklearn.model_selection import train_test_split\n",
    "from sklearn.compose import ColumnTransformer\n",
    "from sklearn.preprocessing import OneHotEncoder\n",
    "from sklearn.pipeline import Pipeline\n",
    "from sklearn.impute import SimpleImputer\n",
    "from sklearn.linear_model import LogisticRegression\n",
    "from sklearn.tree import DecisionTreeClassifier\n",
    "from sklearn.metrics import accuracy_score, ConfusionMatrixDisplay, confusion_matrix, classification_report\n"
   ]
  },
  {
   "cell_type": "code",
   "execution_count": null,
   "id": "0b914cd2",
   "metadata": {},
   "outputs": [],
   "source": [
    "\n",
    "# Load data\n",
    "data_dir = Path('data/loan')\n",
    "for candidate in [data_dir/'train.csv', Path('../data/loan/train.csv'), Path('/mnt/data/devhub_ds_tasks/data/loan/train.csv')]:\n",
    "    if candidate.exists():\n",
    "        train_csv = candidate; break\n",
    "else:\n",
    "    raise FileNotFoundError(\"Download Kaggle 'Loan Prediction' train.csv to ./data/loan/train.csv\")\n",
    "\n",
    "df = pd.read_csv(train_csv)\n",
    "print(\"Shape:\", df.shape)\n",
    "display(df.head())\n",
    "display(df.isna().sum().sort_values(ascending=False))\n"
   ]
  },
  {
   "cell_type": "code",
   "execution_count": null,
   "id": "c0a97f5e",
   "metadata": {},
   "outputs": [],
   "source": [
    "\n",
    "# Target & features\n",
    "target_col = 'Loan_Status' if 'Loan_Status' in df.columns else None\n",
    "if target_col is None:\n",
    "    raise KeyError(\"Expected 'Loan_Status' in dataset.\")\n",
    "X = df.drop(columns=[c for c in ['Loan_ID', target_col] if c in df.columns])\n",
    "y = df[target_col].astype(str).str.upper().map({'Y':1,'N':0}).astype(int)\n",
    "\n",
    "numeric = X.select_dtypes(include=[np.number]).columns.tolist()\n",
    "categorical = X.select_dtypes(exclude=[np.number]).columns.tolist()\n",
    "\n",
    "pre = ColumnTransformer([\n",
    "    ('num', SimpleImputer(strategy='median'), numeric),\n",
    "    ('cat', Pipeline([('imputer', SimpleImputer(strategy='most_frequent')),\n",
    "                      ('ohe', OneHotEncoder(handle_unknown='ignore'))]), categorical)\n",
    "])\n"
   ]
  },
  {
   "cell_type": "code",
   "execution_count": null,
   "id": "9c5bce1f",
   "metadata": {},
   "outputs": [],
   "source": [
    "\n",
    "# Models\n",
    "log_reg = Pipeline([('pre', pre), ('clf', LogisticRegression(max_iter=1000))])\n",
    "tree = Pipeline([('pre', pre), ('clf', DecisionTreeClassifier(random_state=42))])\n",
    "\n",
    "X_train, X_test, y_train, y_test = train_test_split(X, y, test_size=0.2, random_state=42, stratify=y)\n",
    "log_reg.fit(X_train, y_train); tree.fit(X_train, y_train)\n",
    "preds_lr = log_reg.predict(X_test)\n",
    "preds_tr = tree.predict(X_test)\n",
    "\n",
    "acc_lr = accuracy_score(y_test, preds_lr)\n",
    "acc_tr = accuracy_score(y_test, preds_tr)\n",
    "print(f\"Accuracy — Logistic Regression: {acc_lr:.3f}\")\n",
    "print(f\"Accuracy — Decision Tree     : {acc_tr:.3f}\")\n"
   ]
  },
  {
   "cell_type": "code",
   "execution_count": null,
   "id": "73872669",
   "metadata": {},
   "outputs": [],
   "source": [
    "\n",
    "# Confusion matrix + report for best model\n",
    "best_preds, best_name = (preds_lr, \"Logistic Regression\") if acc_lr>=acc_tr else (preds_tr, \"Decision Tree\")\n",
    "cm = confusion_matrix(y_test, best_preds)\n",
    "ConfusionMatrixDisplay(confusion_matrix=cm).plot()\n",
    "plt.title(f\"Confusion Matrix — {best_name}\")\n",
    "plt.show()\n",
    "print(\"\\nClassification Report —\", best_name)\n",
    "print(classification_report(y_test, best_preds, digits=3))\n"
   ]
  },
  {
   "cell_type": "markdown",
   "id": "a839dcef",
   "metadata": {},
   "source": [
    "\n",
    "# Conclusion\n",
    "\n",
    "- **Preprocessing:** Median (numeric) + most-frequent (categorical) imputation, then OHE.  \n",
    "- **Performance:** Logistic Regression / Decision Tree provide usable baselines; confusion matrix shows majority-class advantage.  \n",
    "- **Insight:** Expect credit history, income, and loan amount to matter; engineer ratio features for lift.  \n",
    "- **Next:** Add CV + hyperparameter tuning; track ROC-AUC and recall for the positive class per risk policy.\n"
   ]
  }
 ],
 "metadata": {},
 "nbformat": 4,
 "nbformat_minor": 5
}
